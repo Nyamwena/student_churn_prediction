{
 "cells": [
  {
   "cell_type": "code",
   "execution_count": 5,
   "id": "17396365-b5b6-465d-9c0b-033afc228a0a",
   "metadata": {},
   "outputs": [
    {
     "name": "stdout",
     "output_type": "stream",
     "text": [
      "<class 'pandas.core.frame.DataFrame'>\n",
      "RangeIndex: 10000 entries, 0 to 9999\n",
      "Data columns (total 21 columns):\n",
      " #   Column             Non-Null Count  Dtype  \n",
      "---  ------             --------------  -----  \n",
      " 0   StudentID          10000 non-null  int64  \n",
      " 1   Age                10000 non-null  int64  \n",
      " 2   Gender             10000 non-null  object \n",
      " 3   MaritalStatus      10000 non-null  object \n",
      " 4   HighSchoolGPA      10000 non-null  float64\n",
      " 5   EntranceScore      10000 non-null  float64\n",
      " 6   StudyProgram       10000 non-null  object \n",
      " 7   YearOfStudy        10000 non-null  int64  \n",
      " 8   Modeofstudy        10000 non-null  object \n",
      " 9   PartTimeFullTime   10000 non-null  object \n",
      " 10  Scholarship        10000 non-null  bool   \n",
      " 11  FinancialAid       10000 non-null  bool   \n",
      " 12  TuitionStatus      10000 non-null  object \n",
      " 13  UniversityGPA      10000 non-null  float64\n",
      " 14  CourseFailures     10000 non-null  int64  \n",
      " 15  AcademicProbation  10000 non-null  bool   \n",
      " 16  ClubParticipation  10000 non-null  object \n",
      " 17  LibraryUses        10000 non-null  int64  \n",
      " 18  DistanceFromHome   10000 non-null  int64  \n",
      " 19  EmploymentStatus   10000 non-null  object \n",
      " 20  Churn              10000 non-null  int64  \n",
      "dtypes: bool(3), float64(3), int64(7), object(8)\n",
      "memory usage: 1.4+ MB\n"
     ]
    },
    {
     "data": {
      "text/plain": [
       "(   StudentID  Age Gender MaritalStatus  HighSchoolGPA  EntranceScore  \\\n",
       " 0          1   24      F        Single          89.09         821.52   \n",
       " 1          2   21      M       Married          79.17        1355.97   \n",
       " 2          3   28      M        Single          71.50        1427.23   \n",
       " 3          4   25      M       Married          74.54         814.42   \n",
       " 4          5   22      M        Single          94.36        1276.02   \n",
       " \n",
       "   StudyProgram  YearOfStudy   Modeofstudy PartTimeFullTime  ...  FinancialAid  \\\n",
       " 0  Engineering            2         Block        Full-time  ...          True   \n",
       " 1     Sciences            4  Conventional        Part-time  ...          True   \n",
       " 2  Engineering            2  Conventional        Part-time  ...         False   \n",
       " 3     Business            5         Block        Part-time  ...         False   \n",
       " 4     Business            2         Block        Full-time  ...         False   \n",
       " \n",
       "    TuitionStatus UniversityGPA  CourseFailures  AcademicProbation  \\\n",
       " 0           Paid          1.87               8              False   \n",
       " 1           Paid          1.41               2               True   \n",
       " 2           Paid          2.62               0               True   \n",
       " 3           Paid          2.16               4               True   \n",
       " 4           Paid          3.40               3               True   \n",
       " \n",
       "    ClubParticipation LibraryUses  DistanceFromHome  EmploymentStatus Churn  \n",
       " 0             Medium          27               493        Unemployed     0  \n",
       " 1                Low          17                53          Employed     1  \n",
       " 2                Low          62               477     Self-employed     1  \n",
       " 3               High          17               333     Self-employed     0  \n",
       " 4             Medium          23               191          Employed     1  \n",
       " \n",
       " [5 rows x 21 columns],\n",
       " None,\n",
       "          StudentID          Age  HighSchoolGPA  EntranceScore   YearOfStudy  \\\n",
       " count  10000.00000  10000.00000   10000.000000   10000.000000  10000.000000   \n",
       " mean    5000.50000     23.49640      80.156909    1198.263171      3.005300   \n",
       " std     2886.89568      3.45699      11.519139     230.368234      1.413885   \n",
       " min        1.00000     18.00000      60.000000     800.000000      1.000000   \n",
       " 25%     2500.75000     20.00000      70.257500     997.522500      2.000000   \n",
       " 50%     5000.50000     23.00000      80.240000    1199.300000      3.000000   \n",
       " 75%     7500.25000     27.00000      89.982500    1396.655000      4.000000   \n",
       " max    10000.00000     29.00000     100.000000    1599.830000      5.000000   \n",
       " \n",
       "        UniversityGPA  CourseFailures   LibraryUses  DistanceFromHome  \\\n",
       " count   10000.000000    10000.000000  10000.000000       10000.00000   \n",
       " mean        2.501686        4.486300     49.566500         501.77950   \n",
       " std         0.863043        2.876672     29.061914         289.58494   \n",
       " min         1.000000        0.000000      0.000000           1.00000   \n",
       " 25%         1.760000        2.000000     24.000000         251.00000   \n",
       " 50%         2.490000        4.000000     50.000000         503.00000   \n",
       " 75%         3.240000        7.000000     75.000000         754.00000   \n",
       " max         4.000000        9.000000     99.000000         999.00000   \n",
       " \n",
       "               Churn  \n",
       " count  10000.000000  \n",
       " mean       0.509000  \n",
       " std        0.499944  \n",
       " min        0.000000  \n",
       " 25%        0.000000  \n",
       " 50%        1.000000  \n",
       " 75%        1.000000  \n",
       " max        1.000000  )"
      ]
     },
     "execution_count": 5,
     "metadata": {},
     "output_type": "execute_result"
    }
   ],
   "source": [
    "import pandas as pd\n",
    "\n",
    "# Load the dataset\n",
    "data_path = 'GZU_student_churn_data.csv'\n",
    "gzu_data = pd.read_csv(data_path)\n",
    "\n",
    "# Display the first few rows of the dataset and a summary of the data\n",
    "gzu_data.head(), gzu_data.info(), gzu_data.describe()\n",
    "\n"
   ]
  },
  {
   "cell_type": "code",
   "execution_count": 6,
   "id": "1da7a242-f18f-4815-8ffa-6d1162206f0b",
   "metadata": {},
   "outputs": [
    {
     "data": {
      "text/plain": [
       "((8000, 33), (2000, 33))"
      ]
     },
     "execution_count": 6,
     "metadata": {},
     "output_type": "execute_result"
    }
   ],
   "source": [
    "from sklearn.model_selection import train_test_split\n",
    "from sklearn.preprocessing import StandardScaler, LabelEncoder\n",
    "from sklearn.compose import ColumnTransformer\n",
    "from sklearn.preprocessing import OneHotEncoder\n",
    "\n",
    "# Exclude 'Churn' from the one-hot encoding process and ensure it remains in the dataframe\n",
    "categorical_features = ['Gender', 'MaritalStatus', 'StudyProgram', 'Modeofstudy', 'PartTimeFullTime', \n",
    "                        'TuitionStatus', 'ClubParticipation', 'EmploymentStatus']\n",
    "\n",
    "# Re-apply OneHotEncoding without affecting the 'Churn' column\n",
    "encoder = ColumnTransformer(transformers=[('cat', OneHotEncoder(), categorical_features)], remainder='passthrough')\n",
    "X = gzu_data.drop('Churn', axis=1)\n",
    "y = gzu_data['Churn']\n",
    "X_encoded = encoder.fit_transform(X)\n",
    "\n",
    "# Creating a DataFrame from the encoded data\n",
    "X_encoded_df = pd.DataFrame(X_encoded, columns=encoder.get_feature_names_out())\n",
    "X_encoded_df['Churn'] = y  # Add 'Churn' column back to the DataFrame\n",
    "\n",
    "# Splitting the dataset into training and testing sets\n",
    "X_train, X_test, y_train, y_test = train_test_split(X_encoded_df.drop('Churn', axis=1), y, test_size=0.2, random_state=42)\n",
    "\n",
    "# Feature scaling\n",
    "scaler = StandardScaler()\n",
    "X_train_scaled = scaler.fit_transform(X_train)\n",
    "X_test_scaled = scaler.transform(X_test)\n",
    "\n",
    "# Output the transformed datasets\n",
    "X_train_scaled.shape, X_test_scaled.shape\n"
   ]
  },
  {
   "cell_type": "code",
   "execution_count": 7,
   "id": "f6e4b0b4-1b27-4d0f-81e5-22aecd43a87f",
   "metadata": {},
   "outputs": [
    {
     "data": {
      "text/plain": [
       "(0.4895,\n",
       " array([[363, 618],\n",
       "        [403, 616]]),\n",
       " '              precision    recall  f1-score   support\\n\\n           0       0.47      0.37      0.42       981\\n           1       0.50      0.60      0.55      1019\\n\\n    accuracy                           0.49      2000\\n   macro avg       0.49      0.49      0.48      2000\\nweighted avg       0.49      0.49      0.48      2000\\n')"
      ]
     },
     "execution_count": 7,
     "metadata": {},
     "output_type": "execute_result"
    }
   ],
   "source": [
    "from sklearn.linear_model import LogisticRegression\n",
    "from sklearn.metrics import accuracy_score, confusion_matrix, classification_report\n",
    "\n",
    "# Initialize the Logistic Regression model\n",
    "logistic_model = LogisticRegression(random_state=42, max_iter=1000)\n",
    "\n",
    "# Train the model\n",
    "logistic_model.fit(X_train_scaled, y_train)\n",
    "\n",
    "# Predict on the testing data\n",
    "y_pred = logistic_model.predict(X_test_scaled)\n",
    "\n",
    "# Evaluate the model\n",
    "accuracy = accuracy_score(y_test, y_pred)\n",
    "conf_matrix = confusion_matrix(y_test, y_pred)\n",
    "class_report = classification_report(y_test, y_pred)\n",
    "\n",
    "accuracy, conf_matrix, class_report\n"
   ]
  },
  {
   "cell_type": "code",
   "execution_count": 18,
   "id": "1271a22b-9230-42fc-b59f-4e008ab8b78f",
   "metadata": {},
   "outputs": [
    {
     "name": "stdout",
     "output_type": "stream",
     "text": [
      "Accuracy: 0.565\n",
      "Confusion Matrix:\n",
      " [[37 61]\n",
      " [26 76]]\n",
      "Classification Report:\n",
      "               precision    recall  f1-score   support\n",
      "\n",
      "       False       0.59      0.38      0.46        98\n",
      "        True       0.55      0.75      0.64       102\n",
      "\n",
      "    accuracy                           0.56       200\n",
      "   macro avg       0.57      0.56      0.55       200\n",
      "weighted avg       0.57      0.56      0.55       200\n",
      "\n",
      "Model, scaler, and label encoders exported as 'student_churn_model.pkl', 'scaler.pkl', and 'label_encoders.pkl' respectively.\n"
     ]
    }
   ],
   "source": [
    "import pandas as pd\n",
    "import numpy as np\n",
    "from sklearn.model_selection import train_test_split\n",
    "from sklearn.ensemble import RandomForestClassifier\n",
    "from sklearn.metrics import accuracy_score, confusion_matrix, classification_report\n",
    "from sklearn.preprocessing import StandardScaler, LabelEncoder\n",
    "import pickle\n",
    "\n",
    "# Load the dataset\n",
    "file_path = 'gzu_churn_student_data.csv'\n",
    "df = pd.read_csv(file_path)\n",
    "\n",
    "# Preprocess the data\n",
    "categorical_columns = ['Gender', 'MaritalStatus', 'StudyProgram', 'Modeofstudy', 'PartTimeFullTime', 'TuitionStatus', 'EmploymentStatus']\n",
    "label_encoders = {}\n",
    "\n",
    "# Fit LabelEncoders on all unique values for each categorical column\n",
    "for col in categorical_columns:\n",
    "    le = LabelEncoder()\n",
    "    le.fit(df[col].astype(str))  # Ensure all values are strings\n",
    "    df[col] = le.transform(df[col].astype(str))\n",
    "    label_encoders[col] = le\n",
    "\n",
    "# Features and target variable\n",
    "X = df.drop(columns=['StudentID', 'Churn'])\n",
    "y = df['Churn']\n",
    "\n",
    "# Split the data\n",
    "X_train, X_test, y_train, y_test = train_test_split(X, y, test_size=0.2, random_state=42)\n",
    "\n",
    "# Normalize the data\n",
    "scaler = StandardScaler()\n",
    "X_train = scaler.fit_transform(X_train)\n",
    "X_test = scaler.transform(X_test)\n",
    "\n",
    "# Train the model\n",
    "model = RandomForestClassifier(random_state=42)\n",
    "model.fit(X_train, y_train)\n",
    "\n",
    "# Evaluate the model\n",
    "y_pred = model.predict(X_test)\n",
    "print(\"Accuracy:\", accuracy_score(y_test, y_pred))\n",
    "print(\"Confusion Matrix:\\n\", confusion_matrix(y_test, y_pred))\n",
    "print(\"Classification Report:\\n\", classification_report(y_test, y_pred))\n",
    "\n",
    "# Export the model, scaler, and label encoders\n",
    "model_file = 'student_churn_model.pkl'\n",
    "scaler_file = 'scaler.pkl'\n",
    "label_encoders_file = 'label_encoders.pkl'\n",
    "\n",
    "with open(model_file, 'wb') as f:\n",
    "    pickle.dump(model, f)\n",
    "\n",
    "with open(scaler_file, 'wb') as f:\n",
    "    pickle.dump(scaler, f)\n",
    "\n",
    "with open(label_encoders_file, 'wb') as f:\n",
    "    pickle.dump(label_encoders, f)\n",
    "\n",
    "print(f\"Model, scaler, and label encoders exported as '{model_file}', '{scaler_file}', and '{label_encoders_file}' respectively.\")\n"
   ]
  },
  {
   "cell_type": "code",
   "execution_count": 11,
   "id": "015ef6dd-2c16-446b-b8bf-0fd930b64233",
   "metadata": {},
   "outputs": [
    {
     "ename": "NameError",
     "evalue": "name 'preprocessor' is not defined",
     "output_type": "error",
     "traceback": [
      "\u001b[0;31m---------------------------------------------------------------------------\u001b[0m",
      "\u001b[0;31mNameError\u001b[0m                                 Traceback (most recent call last)",
      "Cell \u001b[0;32mIn[11], line 7\u001b[0m\n\u001b[1;32m      5\u001b[0m joblib\u001b[38;5;241m.\u001b[39mdump(random_forest_model, model_filename)\n\u001b[1;32m      6\u001b[0m \u001b[38;5;66;03m# Suppose your ColumnTransformer is named 'preprocessor' and has multiple transformers\u001b[39;00m\n\u001b[0;32m----> 7\u001b[0m onehot \u001b[38;5;241m=\u001b[39m \u001b[43mpreprocessor\u001b[49m\u001b[38;5;241m.\u001b[39mnamed_transformers_[\u001b[38;5;124m'\u001b[39m\u001b[38;5;124mone_hot_encoder\u001b[39m\u001b[38;5;124m'\u001b[39m]  \u001b[38;5;66;03m# access by the name used in your ColumnTransformer\u001b[39;00m\n\u001b[1;32m      8\u001b[0m joblib\u001b[38;5;241m.\u001b[39mdump(onehot, \u001b[38;5;124m'\u001b[39m\u001b[38;5;124monehot_encoder.joblib\u001b[39m\u001b[38;5;124m'\u001b[39m)\n\u001b[1;32m     12\u001b[0m model_filename\n",
      "\u001b[0;31mNameError\u001b[0m: name 'preprocessor' is not defined"
     ]
    }
   ],
   "source": []
  },
  {
   "cell_type": "code",
   "execution_count": null,
   "id": "a0a939a7-d162-48ea-94f3-f94c4b3f7a11",
   "metadata": {},
   "outputs": [],
   "source": []
  }
 ],
 "metadata": {
  "kernelspec": {
   "display_name": "Python 3 (ipykernel)",
   "language": "python",
   "name": "python3"
  },
  "language_info": {
   "codemirror_mode": {
    "name": "ipython",
    "version": 3
   },
   "file_extension": ".py",
   "mimetype": "text/x-python",
   "name": "python",
   "nbconvert_exporter": "python",
   "pygments_lexer": "ipython3",
   "version": "3.11.8"
  }
 },
 "nbformat": 4,
 "nbformat_minor": 5
}
